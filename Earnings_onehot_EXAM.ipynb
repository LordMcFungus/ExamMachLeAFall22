{
 "cells": [
  {
   "attachments": {},
   "cell_type": "markdown",
   "metadata": {},
   "source": [
    "# Factors that influence the salary (wages, earning)\n",
    "Exam Example"
   ]
  },
  {
   "attachments": {},
   "cell_type": "markdown",
   "metadata": {},
   "source": [
    "Enter your name here:\n",
    "\n",
    "## Name: AL\n",
    "\n",
    "## First Name: AIN\n",
    "    "
   ]
  },
  {
   "attachments": {},
   "cell_type": "markdown",
   "metadata": {},
   "source": [
    "We are given one-hot encoded panel data on earnings of 595 individuals for the years 1976–1982, originating from the [Panel Study of Income Dynamics](https://rdrr.io/cran/AER/man/PSID7682.html). The data were originally analyzed by Cornwell and Rupert (1988) and employed for assessing various instrumental-variable estimators for panel models.\n",
    "\n",
    "**Your task is to predict the earnings class (`wage_class`) based on the remaining features.**"
   ]
  },
  {
   "cell_type": "code",
   "execution_count": 65,
   "metadata": {},
   "outputs": [
    {
     "data": {
      "text/html": [
       "<style> |\n",
       "table td, table th, table tr {text-align:left !important;}\n",
       "</style>\n"
      ],
      "text/plain": [
       "<IPython.core.display.HTML object>"
      ]
     },
     "metadata": {},
     "output_type": "display_data"
    }
   ],
   "source": [
    "%%html\n",
    "<style> |\n",
    "table td, table th, table tr {text-align:left !important;}\n",
    "</style>"
   ]
  },
  {
   "attachments": {},
   "cell_type": "markdown",
   "metadata": {},
   "source": [
    "A data frame containing 7 annual observations on 12 variables for 595 individuals.\n",
    "\n",
    "\n",
    "| feature | description |\n",
    "| --------| -------------|\n",
    "| `experience` | Years of full-time work experience |\n",
    "| `weeks` | Weeks worked |\n",
    "| ` education` | Years of education. |\n",
    "| `occupation_white` | factor. Is the individual a white-collar (\"white\"=`True`) or blue-collar (\"blue\"=`False`) worker? |\n",
    "| `industry` | factor. Does the individual work in a manufacturing industry? |\n",
    "| `south_yes` |factor. Does the individual reside in the South? |\n",
    "| `smsa_yes` |factor. Does the individual reside in a SMSA (standard metropolitan statistical area)? |\n",
    "| `married_yes` |factor. Is the individual married? |\n",
    "| `gender_male` | factor indicating a male gender. |\n",
    "| `union_yes` | factor. Is the individual's wage set by a union contract? |\n",
    "| `ethnicity_other` |factor indicating ethnicity. Is the individual African-American (\"afam\") or not (\"other\")? |\n",
    "| `wage_class` | **resopnse** $y$: Wage class (`['average, 'high', 'low', 'very high']`) |\n",
    "\n",
    "\n",
    "\n"
   ]
  },
  {
   "attachments": {},
   "cell_type": "markdown",
   "metadata": {},
   "source": [
    "\n",
    "Here, we import the necessary libraries.\n"
   ]
  },
  {
   "cell_type": "code",
   "execution_count": 66,
   "metadata": {
    "execution": {
     "iopub.execute_input": "2021-06-05T08:01:16.05676Z",
     "iopub.status.busy": "2021-06-05T08:01:16.05617Z",
     "iopub.status.idle": "2021-06-05T08:01:17.854819Z",
     "shell.execute_reply": "2021-06-05T08:01:17.853854Z",
     "shell.execute_reply.started": "2021-06-05T08:01:16.056729Z"
    }
   },
   "outputs": [],
   "source": [
    "# Basic Libraries\n",
    "import numpy as np\n",
    "import pandas as pd\n",
    "import matplotlib.pyplot as plt\n",
    "\n",
    "# Evaluation & CV Libraries\n",
    "from sklearn.metrics import precision_score, accuracy_score\n",
    "from sklearn.model_selection import GridSearchCV\n"
   ]
  },
  {
   "cell_type": "code",
   "execution_count": 67,
   "metadata": {
    "execution": {
     "iopub.execute_input": "2021-06-05T08:01:18.07429Z",
     "iopub.status.busy": "2021-06-05T08:01:18.073955Z",
     "iopub.status.idle": "2021-06-05T08:01:18.098555Z",
     "shell.execute_reply": "2021-06-05T08:01:18.097331Z",
     "shell.execute_reply.started": "2021-06-05T08:01:18.074262Z"
    }
   },
   "outputs": [
    {
     "data": {
      "text/html": [
       "<div>\n",
       "<style scoped>\n",
       "    .dataframe tbody tr th:only-of-type {\n",
       "        vertical-align: middle;\n",
       "    }\n",
       "\n",
       "    .dataframe tbody tr th {\n",
       "        vertical-align: top;\n",
       "    }\n",
       "\n",
       "    .dataframe thead th {\n",
       "        text-align: right;\n",
       "    }\n",
       "</style>\n",
       "<table border=\"1\" class=\"dataframe\">\n",
       "  <thead>\n",
       "    <tr style=\"text-align: right;\">\n",
       "      <th></th>\n",
       "      <th>experience</th>\n",
       "      <th>weeks</th>\n",
       "      <th>education</th>\n",
       "      <th>occupation_white</th>\n",
       "      <th>industry_yes</th>\n",
       "      <th>south_yes</th>\n",
       "      <th>smsa_yes</th>\n",
       "      <th>married_yes</th>\n",
       "      <th>gender_male</th>\n",
       "      <th>union_yes</th>\n",
       "      <th>ethnicity_other</th>\n",
       "      <th>wage_class</th>\n",
       "    </tr>\n",
       "  </thead>\n",
       "  <tbody>\n",
       "    <tr>\n",
       "      <th>1</th>\n",
       "      <td>3</td>\n",
       "      <td>32</td>\n",
       "      <td>9</td>\n",
       "      <td>1</td>\n",
       "      <td>0</td>\n",
       "      <td>1</td>\n",
       "      <td>0</td>\n",
       "      <td>1</td>\n",
       "      <td>1</td>\n",
       "      <td>0</td>\n",
       "      <td>1</td>\n",
       "      <td>low</td>\n",
       "    </tr>\n",
       "    <tr>\n",
       "      <th>2</th>\n",
       "      <td>4</td>\n",
       "      <td>43</td>\n",
       "      <td>9</td>\n",
       "      <td>1</td>\n",
       "      <td>0</td>\n",
       "      <td>1</td>\n",
       "      <td>0</td>\n",
       "      <td>1</td>\n",
       "      <td>1</td>\n",
       "      <td>0</td>\n",
       "      <td>1</td>\n",
       "      <td>low</td>\n",
       "    </tr>\n",
       "    <tr>\n",
       "      <th>3</th>\n",
       "      <td>5</td>\n",
       "      <td>40</td>\n",
       "      <td>9</td>\n",
       "      <td>1</td>\n",
       "      <td>0</td>\n",
       "      <td>1</td>\n",
       "      <td>0</td>\n",
       "      <td>1</td>\n",
       "      <td>1</td>\n",
       "      <td>0</td>\n",
       "      <td>1</td>\n",
       "      <td>low</td>\n",
       "    </tr>\n",
       "    <tr>\n",
       "      <th>4</th>\n",
       "      <td>6</td>\n",
       "      <td>39</td>\n",
       "      <td>9</td>\n",
       "      <td>1</td>\n",
       "      <td>0</td>\n",
       "      <td>1</td>\n",
       "      <td>0</td>\n",
       "      <td>1</td>\n",
       "      <td>1</td>\n",
       "      <td>0</td>\n",
       "      <td>1</td>\n",
       "      <td>low</td>\n",
       "    </tr>\n",
       "    <tr>\n",
       "      <th>5</th>\n",
       "      <td>7</td>\n",
       "      <td>42</td>\n",
       "      <td>9</td>\n",
       "      <td>1</td>\n",
       "      <td>1</td>\n",
       "      <td>1</td>\n",
       "      <td>0</td>\n",
       "      <td>1</td>\n",
       "      <td>1</td>\n",
       "      <td>0</td>\n",
       "      <td>1</td>\n",
       "      <td>low</td>\n",
       "    </tr>\n",
       "  </tbody>\n",
       "</table>\n",
       "</div>"
      ],
      "text/plain": [
       "   experience  weeks  education  occupation_white  industry_yes  south_yes  \\\n",
       "1           3     32          9                 1             0          1   \n",
       "2           4     43          9                 1             0          1   \n",
       "3           5     40          9                 1             0          1   \n",
       "4           6     39          9                 1             0          1   \n",
       "5           7     42          9                 1             1          1   \n",
       "\n",
       "   smsa_yes  married_yes  gender_male  union_yes  ethnicity_other wage_class  \n",
       "1         0            1            1          0                1        low  \n",
       "2         0            1            1          0                1        low  \n",
       "3         0            1            1          0                1        low  \n",
       "4         0            1            1          0                1        low  \n",
       "5         0            1            1          0                1        low  "
      ]
     },
     "execution_count": 67,
     "metadata": {},
     "output_type": "execute_result"
    }
   ],
   "source": [
    "df_onehot=pd.read_csv('PSID_earnings_onehot.csv', index_col=0)\n",
    "#df.info()\n",
    "df_onehot.head()"
   ]
  },
  {
   "attachments": {},
   "cell_type": "markdown",
   "metadata": {},
   "source": [
    "We check for missing values and NaN, and remove them."
   ]
  },
  {
   "cell_type": "code",
   "execution_count": 68,
   "metadata": {},
   "outputs": [
    {
     "data": {
      "text/plain": [
       "experience          0\n",
       "weeks               0\n",
       "education           0\n",
       "occupation_white    0\n",
       "industry_yes        0\n",
       "south_yes           0\n",
       "smsa_yes            0\n",
       "married_yes         0\n",
       "gender_male         0\n",
       "union_yes           0\n",
       "ethnicity_other     0\n",
       "wage_class          0\n",
       "dtype: int64"
      ]
     },
     "execution_count": 68,
     "metadata": {},
     "output_type": "execute_result"
    }
   ],
   "source": [
    "#drop missing values\n",
    "df_onehot.dropna(inplace=True)\n",
    "df_onehot.isnull().sum()"
   ]
  },
  {
   "attachments": {},
   "cell_type": "markdown",
   "metadata": {},
   "source": [
    "### (a) Extract the features $X$ and the response (label, target) $y$ of the dataset\n",
    "\n",
    "- generate a `numpy` array `X` that contains the features $X$.\n",
    "- generate a `numpy` array `y` that contains the response $y$.\n"
   ]
  },
  {
   "cell_type": "code",
   "execution_count": 69,
   "metadata": {},
   "outputs": [
    {
     "data": {
      "text/plain": [
       "((4165, 11), (4165,))"
      ]
     },
     "execution_count": 69,
     "metadata": {},
     "output_type": "execute_result"
    }
   ],
   "source": [
    "# START CODE HERE \n",
    "column_labels = list(df_onehot.head(0))\n",
    "\n",
    "df_X = df_onehot[[lbl for lbl in column_labels if lbl != \"wage_class\"]]\n",
    "df_Y = df_onehot[\"wage_class\"]\n",
    "X = df_X.to_numpy()\n",
    "Y = df_Y.to_numpy()\n",
    "X.shape, Y.shape\n",
    "# END CODE HERE "
   ]
  },
  {
   "attachments": {},
   "cell_type": "markdown",
   "metadata": {},
   "source": [
    "### (b) Plot a histogram of the response $y$ (`'wage_class'`)\n",
    "- Are the classes well balanced?\n",
    "- Answer: ..."
   ]
  },
  {
   "cell_type": "code",
   "execution_count": 70,
   "metadata": {},
   "outputs": [
    {
     "data": {
      "text/plain": [
       "<AxesSubplot: >"
      ]
     },
     "execution_count": 70,
     "metadata": {},
     "output_type": "execute_result"
    },
    {
     "data": {
      "image/png": "[encoded data removed]",
      "text/plain": [
       "<Figure size 640x480 with 1 Axes>"
      ]
     },
     "metadata": {},
     "output_type": "display_data"
    }
   ],
   "source": [
    "#START CODE HERE\n",
    "df_Y.hist()\n",
    "#END CODE HERE"
   ]
  },
  {
   "attachments": {},
   "cell_type": "markdown",
   "metadata": {},
   "source": [
    "### (c) Split the data in 80% training data and 20% test data\n"
   ]
  },
  {
   "cell_type": "code",
   "execution_count": 71,
   "metadata": {
    "execution": {
     "iopub.execute_input": "2021-06-05T08:01:21.743417Z",
     "iopub.status.busy": "2021-06-05T08:01:21.742778Z",
     "iopub.status.idle": "2021-06-05T08:01:21.757137Z",
     "shell.execute_reply": "2021-06-05T08:01:21.755894Z",
     "shell.execute_reply.started": "2021-06-05T08:01:21.743194Z"
    }
   },
   "outputs": [
    {
     "data": {
      "text/plain": [
       "((3332, 11), (3332,), (833, 11), (833,))"
      ]
     },
     "execution_count": 71,
     "metadata": {},
     "output_type": "execute_result"
    }
   ],
   "source": [
    "# Data Pre-processing Libraries\n",
    "from sklearn.model_selection import train_test_split\n",
    "\n",
    "# START CODE HERE \n",
    "x_train, x_test, y_train, y_test = train_test_split(X, Y, test_size=0.2) \n",
    "x_train.shape, y_train.shape, x_test.shape, y_test.shape\n",
    "\n",
    "# END CODE HERE "
   ]
  },
  {
   "attachments": {},
   "cell_type": "markdown",
   "metadata": {},
   "source": [
    "### (d) Use the `StandardScaler` to standardize the data"
   ]
  },
  {
   "cell_type": "code",
   "execution_count": 72,
   "metadata": {
    "execution": {
     "iopub.execute_input": "2021-06-05T08:01:21.759737Z",
     "iopub.status.busy": "2021-06-05T08:01:21.759111Z",
     "iopub.status.idle": "2021-06-05T08:01:21.774403Z",
     "shell.execute_reply": "2021-06-05T08:01:21.773139Z",
     "shell.execute_reply.started": "2021-06-05T08:01:21.759687Z"
    }
   },
   "outputs": [
    {
     "name": "stdout",
     "output_type": "stream",
     "text": [
      "[[ 7 48 12  0  1  1  1  0  1  1  1]\n",
      " [11 47 12  0  0  0  1  1  1  1  1]\n",
      " [20 49 12  0  1  0  1  1  1  1  1]]\n",
      "[[ 7 48 12  0  1  1  1  0  1  1  1]\n",
      " [11 47 12  0  0  0  1  1  1  1  1]\n",
      " [20 49 12  0  1  0  1  1  1  1  1]]\n",
      "[[-1.16739101  0.21867293 -0.30978657 -0.98569652  1.23150977  1.58814317\n",
      "   0.71875835 -2.08320512  0.35771789  1.32170666  0.27609308]\n",
      " [-0.80257619  0.01981425 -0.30978657 -0.98569652 -0.81201142 -0.62966615\n",
      "   0.71875835  0.48002954  0.35771789  1.32170666  0.27609308]\n",
      " [ 0.01825716  0.41753161 -0.30978657 -0.98569652  1.23150977 -0.62966615\n",
      "   0.71875835  0.48002954  0.35771789  1.32170666  0.27609308]]\n"
     ]
    }
   ],
   "source": [
    "# Data Pre-processing Libraries\n",
    "from sklearn.preprocessing import StandardScaler\n",
    "\n",
    "#START CODE HERE\n",
    "\n",
    "scaler = StandardScaler()\n",
    "print(x_train[:3,:])\n",
    "scaler.fit(x_train)\n",
    "print(x_train[:3,:])\n",
    "x_train = scaler.transform(x_train)\n",
    "x_test = scaler.transform(x_test)\n",
    "print(x_train[:3,:])\n",
    "#END CODE HERE"
   ]
  },
  {
   "attachments": {},
   "cell_type": "markdown",
   "metadata": {},
   "source": [
    "### (e) Model Evaluation\n",
    "\n",
    "Use the following **classifiers as baseline** for your classification and evaluate the **precision** (macro average: `average='macro'`) on the training and test data for each of these classifiers\n",
    "\n",
    "- Random Forest classifier (`RandomForestClassifier`) with standard parameters\n",
    "- k-nearest neighbors classifier (`KNeighborsClassifier`) with `k=3`\n",
    "  \n"
   ]
  },
  {
   "cell_type": "code",
   "execution_count": 73,
   "metadata": {},
   "outputs": [],
   "source": [
    "# Modelling Libraries\n",
    "from sklearn.ensemble import RandomForestClassifier\n",
    "from sklearn.neighbors import KNeighborsClassifier\n",
    "\n",
    "from sklearn.metrics import precision_score, accuracy_score\n",
    "from sklearn.metrics import confusion_matrix, ConfusionMatrixDisplay\n",
    "#from sklearn.metrics import plot_confusion_matrix\n",
    "\n",
    "classes=['average', 'high', 'low', 'very high']\n"
   ]
  },
  {
   "cell_type": "code",
   "execution_count": 74,
   "metadata": {
    "execution": {
     "iopub.execute_input": "2021-06-05T08:01:21.776369Z",
     "iopub.status.busy": "2021-06-05T08:01:21.776023Z",
     "iopub.status.idle": "2021-06-05T08:01:24.818316Z",
     "shell.execute_reply": "2021-06-05T08:01:24.817207Z",
     "shell.execute_reply.started": "2021-06-05T08:01:21.776337Z"
    }
   },
   "outputs": [
    {
     "name": "stdout",
     "output_type": "stream",
     "text": [
      "Random Forest Classifier\n",
      "Train Precision:\t0.969\n",
      "Test Precision:\t\t0.528\n",
      "\n",
      "KNN Classifier\n",
      "Train Precision:\t0.766\n",
      "Test Precision:\t\t0.498\n"
     ]
    },
    {
     "data": {
      "image/png": "[encoded data removed]",
      "text/plain": [
       "<Figure size 640x480 with 2 Axes>"
      ]
     },
     "metadata": {},
     "output_type": "display_data"
    },
    {
     "data": {
      "image/png": "[encoded data removed]",
      "text/plain": [
       "<Figure size 640x480 with 2 Axes>"
      ]
     },
     "metadata": {},
     "output_type": "display_data"
    }
   ],
   "source": [
    "#START CODE HERE\n",
    "RFC = RandomForestClassifier()\n",
    "RFC.fit(x_train, y_train)\n",
    "yh_test = RFC.predict(x_test)\n",
    "yh_train = RFC.predict(x_train)\n",
    "rfc_train_prec = precision_score(y_train, yh_train, average='macro')\n",
    "rfc_test_prec = precision_score(y_test, yh_test, average='macro')\n",
    "\n",
    "knn = KNeighborsClassifier(3)\n",
    "\n",
    "knn.fit(x_train, y_train)\n",
    "yh_test = knn.predict(x_test)\n",
    "yh_train = knn.predict(x_train)\n",
    "knn_train_prec = precision_score(y_train, yh_train, average='macro')\n",
    "knn_test_prec = precision_score(y_test, yh_test, average='macro')\n",
    "\n",
    "print(f'Random Forest Classifier\\n'\n",
    "      f'Train Precision:\\t{rfc_train_prec:.3f}\\n'\n",
    "      f'Test Precision:\\t\\t{rfc_test_prec:.3f}'\n",
    "      f'\\n\\n'\n",
    "      f'KNN Classifier\\n'\n",
    "      f'Train Precision:\\t{knn_train_prec:.3f}\\n'\n",
    "      f'Test Precision:\\t\\t{knn_test_prec:.3f}')\n",
    "ConfusionMatrixDisplay.from_estimator(RFC, x_test, y_test, labels=classes)\n",
    "plt.show()\n",
    "ConfusionMatrixDisplay.from_estimator(knn, x_test, y_test, display_labels=knn.classes_)\n",
    "plt.show()\n",
    "\n",
    "\n",
    "#END CODE HERE"
   ]
  },
  {
   "attachments": {},
   "cell_type": "markdown",
   "metadata": {},
   "source": [
    "### (f) Plot a confusion matrix for each classifier and interpret the results\n",
    "\n",
    "Plot a **Confusion Matrix** for each of the two classifiers, e.g. using\n",
    "   - `cm = confusion_matrix(y_test, y_pred, labels=model.classes_)`\n",
    "   - ` disp = ConfusionMatrixDisplay(confusion_matrix=cm, display_labels=model.classes_)`\n",
    "   \n",
    "\n",
    "Enter your comments in at least two sentences here:\n",
    "- ...\n",
    "- ..."
   ]
  },
  {
   "attachments": {},
   "cell_type": "markdown",
   "metadata": {
    "execution": {
     "iopub.execute_input": "2021-06-04T18:26:28.073856Z",
     "iopub.status.busy": "2021-06-04T18:26:28.073392Z",
     "iopub.status.idle": "2021-06-04T18:26:28.081845Z",
     "shell.execute_reply": "2021-06-04T18:26:28.080138Z",
     "shell.execute_reply.started": "2021-06-04T18:26:28.073817Z"
    }
   },
   "source": [
    "###  (g) Hyperparameter Tuning of random forest\n",
    "\n",
    "- Tune the hyperparameters a Random Forest Classifier `RandomForestClassifier()` using a 10-fold crossvalidated grid search using `GridSearchCV`. \n",
    "- Use the following hyperparameters for your grid search:\n",
    "    - `params= {'n_estimators':[10,50,100,200], 'max_depth':list(range(1,7))}`\n",
    "- Use the F1 (`f1_macro`) score as a metric.\n",
    "- What are the best parameters out of the grid?"
   ]
  },
  {
   "cell_type": "code",
   "execution_count": 75,
   "metadata": {
    "execution": {
     "iopub.execute_input": "2021-06-05T08:01:24.830538Z",
     "iopub.status.busy": "2021-06-05T08:01:24.830101Z",
     "iopub.status.idle": "2021-06-05T08:01:24.844933Z",
     "shell.execute_reply": "2021-06-05T08:01:24.843484Z",
     "shell.execute_reply.started": "2021-06-05T08:01:24.830493Z"
    }
   },
   "outputs": [],
   "source": [
    "from sklearn.model_selection import GridSearchCV\n",
    "\n",
    "rf=RandomForestClassifier()\n",
    "params= {'n_estimators':[10,50,100,200],\n",
    "         'max_depth':list(range(1,7))}"
   ]
  },
  {
   "cell_type": "code",
   "execution_count": 76,
   "metadata": {
    "execution": {
     "iopub.execute_input": "2021-06-05T08:01:24.847354Z",
     "iopub.status.busy": "2021-06-05T08:01:24.846867Z",
     "iopub.status.idle": "2021-06-05T08:15:00.418767Z",
     "shell.execute_reply": "2021-06-05T08:15:00.416682Z",
     "shell.execute_reply.started": "2021-06-05T08:01:24.847303Z"
    }
   },
   "outputs": [
    {
     "name": "stdout",
     "output_type": "stream",
     "text": [
      "------------------Best parameters------------------\n",
      "max_depth                     :6                   \n",
      "n_estimators                  :100                 \n",
      "---------------------------------------------------\n"
     ]
    }
   ],
   "source": [
    "from sklearn.model_selection import cross_val_score\n",
    "\n",
    "#START CODE HERE\n",
    "\n",
    "clf= GridSearchCV(RandomForestClassifier(), params,scoring='f1_macro', n_jobs=-1,cv=10)\n",
    "clf.fit(x_train, y_train)\n",
    "\n",
    "print(f\"{'Best parameters':-^51s}\")\n",
    "for key in clf.best_params_.keys():\n",
    "    if not isinstance(clf.best_params_[key],str):\n",
    "        value = str(clf.best_params_[key])\n",
    "    else:\n",
    "        value = clf.best_params_[key]\n",
    "\n",
    "    print(f\"{key:30s}:{value:20s}\")\n",
    "print(51*\"-\")\n",
    "\n",
    "#END CODE HERE\n"
   ]
  },
  {
   "attachments": {},
   "cell_type": "markdown",
   "metadata": {},
   "source": [
    "### (h) Compute and plot the permutation feature importances of the best tuned random forest classifier\n",
    "- What are the most important factors for a high salary?\n"
   ]
  },
  {
   "cell_type": "code",
   "execution_count": 77,
   "metadata": {},
   "outputs": [
    {
     "data": {
      "image/png": "[encoded data removed]",
      "text/plain": [
       "<Figure size 640x480 with 1 Axes>"
      ]
     },
     "metadata": {},
     "output_type": "display_data"
    }
   ],
   "source": [
    "from sklearn.inspection import permutation_importance\n",
    "\n",
    "#START CODE HERE \n",
    "modl = clf.best_estimator_\n",
    "importances = permutation_importance(modl, x_train, y_train,n_jobs=-1, n_repeats=10,random_state=42)\n",
    "\n",
    "forest_importances = pd.Series(importances.importances_mean, index=column_labels[:-1])\n",
    "\n",
    "sort_index = np.argsort(forest_importances)[::-1]\n",
    "\n",
    "fig, ax = plt.subplots()\n",
    "forest_importances[sort_index].plot.bar(yerr=importances.importances_std[sort_index], ax=ax)\n",
    "ax.set_title(\"Feature importances using permutation on full model\")\n",
    "ax.set_ylabel(\"Mean accuracy decrease\")\n",
    "fig.tight_layout()\n",
    "plt.show()\n",
    "\n",
    "#END CODE HERE\n"
   ]
  },
  {
   "attachments": {},
   "cell_type": "markdown",
   "metadata": {},
   "source": [
    "###  (i) Hyperparameter Tuning of kNN\n",
    "\n",
    "- Hypertune a K-nearest neighbour classifier `KNeighborsClassifier()` using a 10-fold crossvalidated grid search. \n",
    "- Use the following parameters for your grid search:\n",
    "    - `params= {'n_neighbors':list(range(20,50))}`\n",
    "- Use the F1 score (`scoring=f1_macro`) as a metric.\n",
    "- What are the best parameters for the number of neighbours?"
   ]
  },
  {
   "cell_type": "code",
   "execution_count": 78,
   "metadata": {},
   "outputs": [],
   "source": [
    "knn=KNeighborsClassifier()\n",
    "params= {'n_neighbors':list(range(20,50))}"
   ]
  },
  {
   "cell_type": "code",
   "execution_count": 79,
   "metadata": {},
   "outputs": [
    {
     "name": "stdout",
     "output_type": "stream",
     "text": [
      "------------------Best parameters------------------\n",
      "n_neighbors                   :25                  \n",
      "---------------------------------------------------\n"
     ]
    }
   ],
   "source": [
    "#START CODE HERE\n",
    "clf= GridSearchCV(KNeighborsClassifier(), params,scoring='f1_macro', n_jobs=-1,cv=10)\n",
    "clf.fit(x_train, y_train)\n",
    "\n",
    "print(f\"{'Best parameters':-^51s}\")\n",
    "for key in clf.best_params_.keys():\n",
    "    if not isinstance(clf.best_params_[key],str):\n",
    "        value = str(clf.best_params_[key])\n",
    "    else:\n",
    "        value = clf.best_params_[key]\n",
    "\n",
    "    print(f\"{key:30s}:{value:20s}\")\n",
    "print(51*\"-\")\n",
    "\n",
    "#END CODE HERE\n"
   ]
  },
  {
   "attachments": {},
   "cell_type": "markdown",
   "metadata": {},
   "source": [
    "### (j) Compare and discuss the different approaches\n",
    "\n",
    "- Considering the classifiers (e/f) where the hyperparameters were not tuned and those where the hyperparameters were tuned (g/i), respectively, which classifier would you recommend and why?\n",
    "\n",
    "Answers:\n",
    "- ...\n",
    "- ... "
   ]
  },
  {
   "attachments": {},
   "cell_type": "markdown",
   "metadata": {},
   "source": [
    "## Upload this notebook as ipynb-File and as html-File (File  →  Download as  →  HTML) to the upload field of this question (2 files are allowed). "
   ]
  }
 ],
 "metadata": {
  "kernelspec": {
   "display_name": "Python 3 (ipykernel)",
   "language": "python",
   "name": "python3"
  },
  "language_info": {
   "codemirror_mode": {
    "name": "ipython",
    "version": 3
   },
   "file_extension": ".py",
   "mimetype": "text/x-python",
   "name": "python",
   "nbconvert_exporter": "python",
   "pygments_lexer": "ipython3",
   "version": "3.8.10"
  },
  "nbTranslate": {
   "displayLangs": [
    "*"
   ],
   "hotkey": "alt-t",
   "langInMainMenu": true,
   "sourceLang": "en",
   "targetLang": "fr",
   "useGoogleTranslate": true
  }
 },
 "nbformat": 4,
 "nbformat_minor": 4
}
